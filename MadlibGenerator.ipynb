{
 "cells": [
  {
   "cell_type": "code",
   "execution_count": null,
   "metadata": {},
   "outputs": [],
   "source": [
    "#Madlibs generator\n",
    "from tkinter import *\n",
    "root = Tk()\n",
    "root.geometry('300x300')\n",
    "root.title(\"Welcome to Mad-Libs Generator!\")\n",
    "Label(root, text = 'Mad libs Genarator \\n Have Fun!', font = 'arial 20 bold').pack()\n",
    "Label(root, text = 'Click Any one : ', font = 'arial 15 bold').place(x = 40, y = 80)\n",
    "\n",
    "def madlib1():\n",
    "    animals = input(\"Enter a animal name: \")\n",
    "    profession = input(\"Enter a profession name: \")\n",
    "    cloth = input(\"Enter piece of cloth name: \")\n",
    "    things = input(\"Enter a thing name: \")\n",
    "    name = input(\"Enter a name: \")\n",
    "    place = input(\"Enter a place name: \")\n",
    "    verb = input(\"Enter a verb in ing form: \")\n",
    "    food = input(\"Enter food name: \")\n",
    "    print('say ' + food + ', the photographer said as the camera flashed! ' + name + ' and I had gone to ' + place +' to get our photos taken on my birthday. The first photo we really wanted was a picture of us dressed as ' + animals + ' pretending to be a ' + profession + '. when we saw the second photo, it was exactly what I wanted. We both looked like ' + things + ' wearing ' + cloth + ' and ' + verb + ' --exactly what I had in mind')\n",
    "    \n",
    "def madlib2():\n",
    "    adjective = input(\"Enter an adjective: \")\n",
    "    color = input(\"Enter a color name: \")\n",
    "    thing = input(\"Enter a thing name: \")\n",
    "    place = input(\"Enter a place name: \")\n",
    "    person = input(\"Enter persons name: \")\n",
    "    adjective1 = input(\"Enter an adjjective: \")\n",
    "    insect = input(\"Enter an insect: \")\n",
    "    food = input(\"Enter food name: \")\n",
    "    verb = input(\"Enter a verb: \")\n",
    "    print('Last night I dreamed I was a ' +adjactive+ ' butterfly with ' + color+ ' splocthes that looked like '+thing+ ' .I flew to ' + place+ ' with my bestfriend and '+person+ ' who was a '+adjactive1+ ' ' +insect +' .We ate some ' +food+ ' when we got there and then decided to '+verb+ ' and the dream ended when I said-- lets ' +verb+ '.')\n",
    "    \n",
    "\n",
    "def madlib3():\n",
    "    person = input(\"Enter a person name: \")\n",
    "    color = input(\"Enter a color name: \")\n",
    "    food = input(\"Enter a food name: \")\n",
    "    adjective = input(\"Enter an adjective: \")\n",
    "    thing = input(\"Enter a thing: \")\n",
    "    place = input(\"Enter a place: \")\n",
    "    verb = input(\"Enter a verb: \")\n",
    "    adverb = input(\"Enter an adverb: \")\n",
    "    food = input(\"Enter food name: \")\n",
    "    things = input(\"Enter a thing name: \")\n",
    "    print('Today we picked apple from '+person+ \"'s Orchard. I had no idea there were so many different varieties of apples. I ate \" +color+ ' apples straight off the tree that tested like '+foods+ '. Then there was a '+adjective+ ' apple that looked like a ' + thing + '.When our bag were full, we went on a free hay ride to '+place+ ' and back. It ended at a hay pile where we got to ' +verb+ ' ' +adverb+ '. I can hardly wait to get home and cook with the apples. We are going to make appple '+food+ ' and '+things+' pies!.')  \n",
    "    \n",
    "    \n",
    "Button(root, text='The Photographer', font = 'arial 15', command = madlib1, bg = 'ghost white').place(x = 60 , y = 150)\n",
    "Button(root, text='Apple and Apple', font = 'arial 15', command = madlib2, bg = 'ghost white').place(x = 80, y = 200)\n",
    "Button(root, text='The Butterfly', font = 'arial 15', command = madlib3, bg = 'ghost white').place(x = 100, y = 250)\n",
    "root.mainloop()"
   ]
  },
  {
   "cell_type": "code",
   "execution_count": null,
   "metadata": {},
   "outputs": [],
   "source": []
  }
 ],
 "metadata": {
  "kernelspec": {
   "display_name": "Python 3",
   "language": "python",
   "name": "python3"
  },
  "language_info": {
   "codemirror_mode": {
    "name": "ipython",
    "version": 3
   },
   "file_extension": ".py",
   "mimetype": "text/x-python",
   "name": "python",
   "nbconvert_exporter": "python",
   "pygments_lexer": "ipython3",
   "version": "3.7.4"
  }
 },
 "nbformat": 4,
 "nbformat_minor": 2
}
